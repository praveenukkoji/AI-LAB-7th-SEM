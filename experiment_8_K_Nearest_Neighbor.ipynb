{
 "cells": [
  {
   "cell_type": "code",
   "execution_count": 1,
   "metadata": {},
   "outputs": [
    {
     "name": "stdout",
     "output_type": "stream",
     "text": [
      "iris dataset loaded...\n",
      "dataset split into training and testing...\n",
      "Size of training data and its label (135, 4) (135,)\n",
      "Size of testing data and its label (15, 4) (15,)\n",
      "label 0  -  setosa\n",
      "label 1  -  versicolor\n",
      "label 2  -  virginica\n",
      "Result of classification using KNN with k=1\n",
      "Sample:  [6.3 2.9 5.6 1.8] Actual-label:  2 Predicted-label:  [2 2 1 2 2 1 1 0 2 0 2 2 2 0 2]\n",
      "Sample:  [6.2 2.8 4.8 1.8] Actual-label:  2 Predicted-label:  [2 2 1 2 2 1 1 0 2 0 2 2 2 0 2]\n",
      "Sample:  [5.6 2.9 3.6 1.3] Actual-label:  1 Predicted-label:  [2 2 1 2 2 1 1 0 2 0 2 2 2 0 2]\n",
      "Sample:  [6.5 3.2 5.1 2. ] Actual-label:  2 Predicted-label:  [2 2 1 2 2 1 1 0 2 0 2 2 2 0 2]\n",
      "Sample:  [7.9 3.8 6.4 2. ] Actual-label:  2 Predicted-label:  [2 2 1 2 2 1 1 0 2 0 2 2 2 0 2]\n",
      "Sample:  [6.3 2.3 4.4 1.3] Actual-label:  1 Predicted-label:  [2 2 1 2 2 1 1 0 2 0 2 2 2 0 2]\n",
      "Sample:  [5.5 2.3 4.  1.3] Actual-label:  1 Predicted-label:  [2 2 1 2 2 1 1 0 2 0 2 2 2 0 2]\n",
      "Sample:  [5.1 3.4 1.5 0.2] Actual-label:  0 Predicted-label:  [2 2 1 2 2 1 1 0 2 0 2 2 2 0 2]\n",
      "Sample:  [7.2 3.  5.8 1.6] Actual-label:  2 Predicted-label:  [2 2 1 2 2 1 1 0 2 0 2 2 2 0 2]\n",
      "Sample:  [5.3 3.7 1.5 0.2] Actual-label:  0 Predicted-label:  [2 2 1 2 2 1 1 0 2 0 2 2 2 0 2]\n",
      "Sample:  [6.9 3.1 5.1 2.3] Actual-label:  2 Predicted-label:  [2 2 1 2 2 1 1 0 2 0 2 2 2 0 2]\n",
      "Sample:  [6.2 3.4 5.4 2.3] Actual-label:  2 Predicted-label:  [2 2 1 2 2 1 1 0 2 0 2 2 2 0 2]\n",
      "Sample:  [5.8 2.7 5.1 1.9] Actual-label:  2 Predicted-label:  [2 2 1 2 2 1 1 0 2 0 2 2 2 0 2]\n",
      "Sample:  [5.1 3.5 1.4 0.2] Actual-label:  0 Predicted-label:  [2 2 1 2 2 1 1 0 2 0 2 2 2 0 2]\n",
      "Sample:  [5.7 2.5 5.  2. ] Actual-label:  2 Predicted-label:  [2 2 1 2 2 1 1 0 2 0 2 2 2 0 2]\n",
      "Classification Accuracy:  1.0\n"
     ]
    }
   ],
   "source": [
    "# importing the required packages\n",
    "\n",
    "from sklearn.model_selection import train_test_split\n",
    "from sklearn.neighbors import KNeighborsClassifier\n",
    "from sklearn import datasets\n",
    "\n",
    "# load the dataset\n",
    "\n",
    "iris = datasets.load_iris()\n",
    "print('iris dataset loaded...')\n",
    "\n",
    "# split data into the train and test samples\n",
    "\n",
    "x_train, x_test, y_train, y_test = train_test_split(iris.data, iris.target, test_size=0.1)\n",
    "\n",
    "print('dataset split into training and testing...')\n",
    "print('Size of training data and its label', x_train.shape, y_train.shape)\n",
    "print('Size of testing data and its label', x_test.shape, y_test.shape)\n",
    "\n",
    "# print label number and their names\n",
    "\n",
    "for i in range(len(iris.target_names)):\n",
    "    print(\"label\", i, \" - \", str(iris.target_names[i]))\n",
    "\n",
    "# create object of KNN Classifier\n",
    "\n",
    "classifier = KNeighborsClassifier(n_neighbors=1)\n",
    "\n",
    "# perform training\n",
    "\n",
    "classifier.fit(x_train, y_train)\n",
    "\n",
    "# perform testing\n",
    "\n",
    "y_pred = classifier.predict(x_test)\n",
    "\n",
    "# display results\n",
    "\n",
    "print(\"Result of classification using KNN with k=1\")\n",
    "\n",
    "for r in range(0, len(x_test)):\n",
    "    print(\"Sample: \", str(x_test[r]), \"Actual-label: \", str(y_test[r]), \"Predicted-label: \", str(y_pred))\n",
    "\n",
    "print(\"Classification Accuracy: \", classifier.score(x_test, y_test))"
   ]
  },
  {
   "cell_type": "code",
   "execution_count": null,
   "metadata": {},
   "outputs": [],
   "source": []
  }
 ],
 "metadata": {
  "interpreter": {
   "hash": "535e7dfa4e79b8a16ee5958c03c29abfca9eab7a4cbaa00a7baba8beca86875c"
  },
  "kernelspec": {
   "display_name": "Python 3 (ipykernel)",
   "language": "python",
   "name": "python3"
  },
  "language_info": {
   "codemirror_mode": {
    "name": "ipython",
    "version": 3
   },
   "file_extension": ".py",
   "mimetype": "text/x-python",
   "name": "python",
   "nbconvert_exporter": "python",
   "pygments_lexer": "ipython3",
   "version": "3.9.4"
  }
 },
 "nbformat": 4,
 "nbformat_minor": 2
}
