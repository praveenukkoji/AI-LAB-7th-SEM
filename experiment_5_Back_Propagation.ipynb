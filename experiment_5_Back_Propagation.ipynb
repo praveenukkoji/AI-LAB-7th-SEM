{
 "cells": [
  {
   "cell_type": "code",
   "execution_count": 1,
   "metadata": {},
   "outputs": [
    {
     "name": "stdout",
     "output_type": "stream",
     "text": [
      "Input: \n",
      "[[0.66666667 1.        ]\n",
      " [0.33333333 0.55555556]\n",
      " [1.         0.66666667]]\n",
      "Actual Output: \n",
      "[[0.92]\n",
      " [0.86]\n",
      " [0.89]]\n",
      "Predicted Output: \n",
      " [[0.85014888]\n",
      " [0.83443275]\n",
      " [0.84906947]]\n"
     ]
    }
   ],
   "source": [
    "import numpy as np;\n",
    "\n",
    "x = np.array(([2, 9], [1, 5], [3, 6]), dtype=float)\n",
    "y = np.array(([92], [86], [89]), dtype=float)\n",
    "X = x / np.amax(x, axis=0)\n",
    "Y = y / 100\n",
    "\n",
    "# sigmoid function\n",
    "def sigmoid(x):\n",
    "    return 1 / (1 + np.exp(-x))\n",
    "\n",
    "# derivative of sigmoid function\n",
    "def derivative_sigmoid(x):\n",
    "    return x * (1 - x)\n",
    "\n",
    "# Variable initialization\n",
    "epoch = 9000                  #Setting training iterations \n",
    "lr = 0.0000011                      #Setting learning rate \n",
    "inputlayer_neurons = 2      #number of features in data set \n",
    "hiddenlayer_neurons = 3     #number of hidden layers neurons \n",
    "output_neurons = 1          #number of neurons at output layer \n",
    "\n",
    "# weight and bias initialization \n",
    "wh = np.random.uniform(size=(inputlayer_neurons,hiddenlayer_neurons))\n",
    "bh = np.random.uniform(size=(1,hiddenlayer_neurons)) \n",
    "wout = np.random.uniform(size=(hiddenlayer_neurons,output_neurons)) \n",
    "bout = np.random.uniform(size=(1,output_neurons)) \n",
    "\n",
    "# draws a random range of numbers uniformly of dim x*y \n",
    "for i in range(epoch): \n",
    "    # Forward Propogation \n",
    "    hinp1 = np.dot(X,wh) \n",
    "    hinp = hinp1 + bh \n",
    "    hlayer_act = sigmoid(hinp) \n",
    "    outinp1 = np.dot(hlayer_act,wout) \n",
    "    outinp = outinp1 + bout \n",
    "    output = sigmoid(outinp) \n",
    "    # Backpropagation \n",
    "    EO = y-output \n",
    "    outgrad = derivative_sigmoid(output)\n",
    "    d_output = EO * outgrad \n",
    "    EH = d_output.dot(wout.T) \n",
    "    hiddengrad = derivative_sigmoid(hlayer_act)\n",
    "    # how much hidden layer wts contributed to error\n",
    "    d_hiddenlayer = EH * hiddengrad \n",
    "    wout += hlayer_act.T.dot(d_output) * lr\n",
    "    # dotproduct of nextlayererror and currentlayerop\n",
    "    # bout += np.sum(d_output, axis=0,keepdims=True) *lr \n",
    "    wh += X.T.dot(d_hiddenlayer) * lr \n",
    "    # bh += np.sum(d_hiddenlayer, axis=0,keepdims=True) *lr \n",
    "print(\"Input: \\n\" + str(X)) \n",
    "print(\"Actual Output: \\n\" + str(Y)) \n",
    "print(\"Predicted Output: \\n\" ,output)"
   ]
  },
  {
   "cell_type": "code",
   "execution_count": null,
   "metadata": {},
   "outputs": [],
   "source": []
  }
 ],
 "metadata": {
  "interpreter": {
   "hash": "535e7dfa4e79b8a16ee5958c03c29abfca9eab7a4cbaa00a7baba8beca86875c"
  },
  "kernelspec": {
   "display_name": "Python 3 (ipykernel)",
   "language": "python",
   "name": "python3"
  },
  "language_info": {
   "codemirror_mode": {
    "name": "ipython",
    "version": 3
   },
   "file_extension": ".py",
   "mimetype": "text/x-python",
   "name": "python",
   "nbconvert_exporter": "python",
   "pygments_lexer": "ipython3",
   "version": "3.9.4"
  }
 },
 "nbformat": 4,
 "nbformat_minor": 2
}
